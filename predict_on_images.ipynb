{
 "cells": [
  {
   "cell_type": "markdown",
   "metadata": {},
   "source": [
    "# Prediction on skin images\n",
    "\n",
    "> <span style=\"color:gray\">\n",
    "Created by Martin Hatting Petersen ([s144234](mailto:s144234@student.dtu.dk)).\n",
    "</span>\n",
    "\n",
    "In this notebook I will give an opertunity for the reader to run the model on some examples and visualize the results by plotting some images. The user gives a path to a folder where the images are located and the script will then do a prediction on them with a title saying what the prediction is."
   ]
  },
  {
   "cell_type": "markdown",
   "metadata": {},
   "source": [
    "## Prediction Code"
   ]
  },
  {
   "cell_type": "code",
   "execution_count": null,
   "metadata": {
    "collapsed": true
   },
   "outputs": [],
   "source": [
    "# imports\n",
    "from keras.preprocessing.image import load_img, img_to_array\n",
    "from PIL import Image\n",
    "\n",
    "%matplotlib inline\n",
    "\n",
    "import numpy as np\n",
    "import os\n",
    "import matplotlib.pyplot as plt\n",
    "\n",
    "# local imports\n",
    "from model import ImageModel"
   ]
  },
  {
   "cell_type": "markdown",
   "metadata": {},
   "source": [
    "Set up the image model"
   ]
  },
  {
   "cell_type": "code",
   "execution_count": null,
   "metadata": {
    "collapsed": true
   },
   "outputs": [],
   "source": [
    "# set up the variables\n",
    "imageModel = ImageModel()"
   ]
  },
  {
   "cell_type": "markdown",
   "metadata": {},
   "source": [
    "Define the predict function and plot function"
   ]
  },
  {
   "cell_type": "code",
   "execution_count": null,
   "metadata": {
    "collapsed": true
   },
   "outputs": [],
   "source": [
    "def predict(path,model,model_name):\n",
    "    images = []\n",
    "    predictions = []\n",
    "    classNames = ['Eczema','Psoriasis']\n",
    "    top_model_input_shape = (8,8,1536)\n",
    "    model.defineFullModel((299,299,3),top_model_input_shape,model_name)\n",
    "    for f in os.listdir(path):\n",
    "        img = load_img(os.path.join(path,f),target_size=(299,299))\n",
    "        x = img_to_array(img)\n",
    "        images.append(x)\n",
    "    images = np.asarray(images,dtype='float32').reshape((-1,299,299,3))\n",
    "    images = images * 1./255\n",
    "    p = model.model.predict(images)\n",
    "    predictions = np.asarray(p).reshape((-1))\n",
    "    convertPredToImages(images,predictions,classNames)\n",
    "    \n",
    "def convertPredToImages(images,predictions,classNames):\n",
    "    num_images = images.shape[0]\n",
    "    fig = plt.figure(figsize=(500,100))\n",
    "    for i,pred in enumerate(predictions):\n",
    "        p = int(round(pred))\n",
    "        predClass = 'Pred: '+classNames[p]\n",
    "        ax = fig.add_subplot(num_images,1,i+1)\n",
    "        ax.imshow(images[i])\n",
    "        ax.set_title(predClass)\n",
    "    plt.show()\n",
    "        "
   ]
  },
  {
   "cell_type": "markdown",
   "metadata": {},
   "source": [
    "Run the predict function on the images given in the test folder (you can give any folder containing some images) with the given model and the name of the model (and therefore the name of the trained weights)"
   ]
  },
  {
   "cell_type": "code",
   "execution_count": null,
   "metadata": {
    "scrolled": true
   },
   "outputs": [],
   "source": [
    "predict(path='test',model=imageModel,model_name='best')"
   ]
  },
  {
   "cell_type": "markdown",
   "metadata": {},
   "source": [
    "You see the images displayed above with the title corresponding to the prediction of the class"
   ]
  }
 ],
 "metadata": {
  "kernelspec": {
   "display_name": "Python 3",
   "language": "python",
   "name": "python3"
  },
  "language_info": {
   "codemirror_mode": {
    "name": "ipython",
    "version": 3
   },
   "file_extension": ".py",
   "mimetype": "text/x-python",
   "name": "python",
   "nbconvert_exporter": "python",
   "pygments_lexer": "ipython3",
   "version": "3.5.2"
  }
 },
 "nbformat": 4,
 "nbformat_minor": 2
}
